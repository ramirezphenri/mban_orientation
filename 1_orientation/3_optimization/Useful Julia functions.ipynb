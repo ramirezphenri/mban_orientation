{
 "cells": [
  {
   "cell_type": "code",
   "execution_count": 1,
   "metadata": {},
   "outputs": [],
   "source": [
    "#Useful Julia functions"
   ]
  },
  {
   "cell_type": "markdown",
   "metadata": {},
   "source": [
    "findall()\n",
    "\n",
    "typeof()\n",
    "\n",
    "v.>=2 # element-wise comparisons by adding the . if v is a vector\n",
    "\n",
    "g = v.<=3\n",
    "v[g] # logical indexing\n",
    "\n",
    "push!(v,2)\n",
    "\n",
    "pop(v)\n",
    "\n",
    "\n",
    "Matrices\n",
    "\n",
    "A = [1 2 3; 4 5 6; 7 8 9] # no commas between entries!\n",
    "\n",
    "A*C # matrix multiplication\n",
    "A*w\n",
    "A.*C # element-wise multiplication\n",
    "\n"
   ]
  },
  {
   "cell_type": "code",
   "execution_count": 3,
   "metadata": {
    "scrolled": true
   },
   "outputs": [
    {
     "data": {
      "text/plain": [
       "String"
      ]
     },
     "execution_count": 3,
     "metadata": {},
     "output_type": "execute_result"
    }
   ],
   "source": [
    "# strings\n",
    "a = \"Emma\"\n",
    "typeof(a)\n",
    "b = \"My name is\""
   ]
  },
  {
   "cell_type": "code",
   "execution_count": 10,
   "metadata": {},
   "outputs": [
    {
     "data": {
      "text/plain": [
       "\"My name is Emma\""
      ]
     },
     "execution_count": 10,
     "metadata": {},
     "output_type": "execute_result"
    }
   ],
   "source": [
    "join([b,a], \" \")  #put a space between them"
   ]
  },
  {
   "cell_type": "code",
   "execution_count": 9,
   "metadata": {},
   "outputs": [
    {
     "data": {
      "text/plain": [
       "\"My name is Emma\""
      ]
     },
     "execution_count": 9,
     "metadata": {},
     "output_type": "execute_result"
    }
   ],
   "source": [
    "\"$b $a\""
   ]
  },
  {
   "cell_type": "markdown",
   "metadata": {},
   "source": [
    "#### DataFrames\n",
    "\n",
    "print first rows : first(df,5)\n",
    "\n",
    "\n",
    "#### joining datasets\n",
    "\n",
    "join(iris, species_price, on = :Species, kind = :left), options :`:left`, `:right`, `:inner`, `:outer`, etc.\n",
    "\n",
    "#### Select a column :\n",
    "\n",
    "iris[:,:SepalLength]\n",
    "\n",
    "#### MAP\n",
    "\n",
    "**map**(get_income_group,icecream[!,:Income])     : applies function to each element of the column\n",
    "\n",
    "#### Plots :\n",
    "\n",
    "##### scatter : \n",
    "scatter(iris[!,:SepalLength],iris[!,:SepalWidth],group=iris[!,:Species],\n",
    "        title = \"Sepal length vs. width\",\n",
    "        xlabel = \"Length\", ylabel = \"Width\",\n",
    "        m=(0.5, [:cross :hex :star7], 12),\n",
    "        bg=RGB(.2,.2,.2))\n",
    "        \n",
    "##### violin and boxplot :\n",
    "\n",
    "violin(iris[!,:Species],iris[!,:SepalLength])\n",
    "\n",
    "boxplot!(iris[!,:Species],iris[!,:SepalLength], leg=false,\n",
    "    xlabel = \"Species\", ylabel = \"Sepal Length\")\n",
    "    \n",
    "note : ! after boxplot allows to do 2 plots in the same space. \n",
    "\n",
    "more here : http://docs.juliaplots.org/latest/tutorial/#tutorial-1"
   ]
  },
  {
   "cell_type": "code",
   "execution_count": null,
   "metadata": {},
   "outputs": [],
   "source": []
  }
 ],
 "metadata": {
  "kernelspec": {
   "display_name": "Julia 1.2.0",
   "language": "julia",
   "name": "julia-1.2"
  },
  "language_info": {
   "file_extension": ".jl",
   "mimetype": "application/julia",
   "name": "julia",
   "version": "1.2.0"
  }
 },
 "nbformat": 4,
 "nbformat_minor": 2
}
