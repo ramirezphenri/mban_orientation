{
 "cells": [
  {
   "cell_type": "markdown",
   "metadata": {},
   "source": [
    "# Intro to Data Manipulation and Visualization in Julia\n",
    "In this section, we will learn how to read in data and conduct data manipulation and visualization in Julia. This is an important step in solving a real-world optimization problem, as real-world data can be messy and difficult to work with.\n",
    "\n",
    "## DataFrames\n",
    "Like data frames in `R`, `Julia` also has a similar structure for datasets. You will need to load the packages `DataFrames` and `CSV` first:"
   ]
  },
  {
   "cell_type": "code",
   "execution_count": null,
   "metadata": {},
   "outputs": [],
   "source": [
    "using DataFrames, CSV"
   ]
  },
  {
   "cell_type": "markdown",
   "metadata": {},
   "source": [
    "Now let's read in a csv file for the dataset _iris_ using the `CSV.read` function. The csv file should sit in the same directory as this script. Otherwise, you will need to change the path to the file for the first argument to the `CSV.read` function."
   ]
  },
  {
   "cell_type": "code",
   "execution_count": null,
   "metadata": {},
   "outputs": [],
   "source": [
    "iris = CSV.read(\"iris.csv\");"
   ]
  },
  {
   "cell_type": "code",
   "execution_count": null,
   "metadata": {},
   "outputs": [],
   "source": [
    "### If you are unable to read the data, you can uncomment the following code and run it:\n",
    "# using RDatasets\n",
    "# iris = dataset(\"datasets\", \"iris\")"
   ]
  },
  {
   "cell_type": "markdown",
   "metadata": {},
   "source": [
    "To view the first few rows of the data, you can use `first()`, or index the dataframe similar to what you did you in `R`:\n",
    "\n",
    "To subset rows, pass in the indices in the first dimension. If you are not subsetting to particular columns, just pass in ``:`` in the second dimension (as opposed to leaving it blank in `R`)."
   ]
  },
  {
   "cell_type": "code",
   "execution_count": null,
   "metadata": {
    "scrolled": true
   },
   "outputs": [],
   "source": [
    "iris[1:5,:]\n",
    "first(iris,5)"
   ]
  },
  {
   "cell_type": "markdown",
   "metadata": {},
   "source": [
    "To index a column using column name, simply put a `:` in front of the name to make it into a Julia symbol. \n",
    "We could also write the column name like this: `symbol(\"SepalLength\")`.\n",
    "\n",
    "\n",
    "To select all rows, you can either type `[:,:columnName]` or `[!,:columnName]`."
   ]
  },
  {
   "cell_type": "code",
   "execution_count": null,
   "metadata": {
    "scrolled": true
   },
   "outputs": [],
   "source": [
    "iris[!,:SepalLength]"
   ]
  },
  {
   "cell_type": "markdown",
   "metadata": {},
   "source": [
    "We often times need to join/merge datasets. Let's look at an example first: suppose we have a dataframe that gives the species and the respective price at a flower shop:"
   ]
  },
  {
   "cell_type": "code",
   "execution_count": null,
   "metadata": {},
   "outputs": [],
   "source": [
    "species_price = DataFrame(Species = [\"setosa\", \"versicolor\", \"virginica\"],\n",
    "                        Price = [2.5, 3.1, 3.2])"
   ]
  },
  {
   "cell_type": "markdown",
   "metadata": {},
   "source": [
    " To join, simply pass in:\n",
    " * the two data frames,\n",
    " * the shared variable name, and\n",
    " * the option for the kind of join you wanted: \n",
    " \n",
    " `:left`, `:right`, `:inner`, `:outer`, etc."
   ]
  },
  {
   "cell_type": "code",
   "execution_count": null,
   "metadata": {
    "scrolled": true
   },
   "outputs": [],
   "source": [
    "join(iris, species_price, on = :Species, kind = :left)"
   ]
  },
  {
   "cell_type": "markdown",
   "metadata": {},
   "source": [
    "\n",
    "## Plotting in Julia\n",
    "\n",
    "Julia also has extensive support for plotting. \n",
    "\n",
    "* `Plots.jl` is a powerful and concise tool for plotting. It provides the interface to many other plotting packages with simple and consistent syntax.\n",
    "* `StatPlots.jl` offers the DataFrames integration for `Plots`. You can pass in a data frame, and map aesthetics to the column names directly. \n",
    "\n",
    "Using these would be somewhat similar to working with `ggplot2` in `R`. \n",
    "\n",
    "Here is an example of a scatter plot based on the `iris` data, where the x axis is the `SepalLength`, y axis is `SepalWidth`, and the grouping (therefore the colors) are based on the `Species`."
   ]
  },
  {
   "cell_type": "code",
   "execution_count": null,
   "metadata": {},
   "outputs": [],
   "source": [
    "using Plots\n",
    "using StatsPlots\n",
    "pyplot()\n",
    "scatter(iris[!,:SepalLength],iris[!,:SepalWidth],group=iris[!,:Species])"
   ]
  },
  {
   "cell_type": "markdown",
   "metadata": {},
   "source": [
    "We can make the plot more interesting by adding a few custom settings. For example:\n",
    "* Give it a title\n",
    "* Provide xlabel and ylabel\n",
    "* Change the transparency, shape, and size of the dots\n",
    "* change background color to dark grey"
   ]
  },
  {
   "cell_type": "code",
   "execution_count": null,
   "metadata": {},
   "outputs": [],
   "source": [
    "scatter(iris[!,:SepalLength],iris[!,:SepalWidth],group=iris[!,:Species],\n",
    "        title = \"Sepal length vs. width\",\n",
    "        xlabel = \"Length\", ylabel = \"Width\",\n",
    "        m=(0.5, [:cross :hex :star7], 12),\n",
    "        bg=RGB(.2,.2,.2))"
   ]
  },
  {
   "cell_type": "markdown",
   "metadata": {},
   "source": [
    "You can also do a box plot (with the violin plot in the background) grouped by the species. Note the `!` in `boxplot!` adds the current plot to the existing one. "
   ]
  },
  {
   "cell_type": "code",
   "execution_count": null,
   "metadata": {},
   "outputs": [],
   "source": [
    "violin(iris[!,:Species],iris[!,:SepalLength])\n",
    "boxplot!(iris[!,:Species],iris[!,:SepalLength], leg=false,\n",
    "    xlabel = \"Species\", ylabel = \"Sepal Length\")"
   ]
  },
  {
   "cell_type": "markdown",
   "metadata": {},
   "source": [
    "There are many other types of plots and custom options. You can explore more from [the tutorial](https://juliaplots.github.io/tutorial/)."
   ]
  },
  {
   "cell_type": "markdown",
   "metadata": {},
   "source": [
    "## Exercise: Plotting Icecream data"
   ]
  },
  {
   "cell_type": "markdown",
   "metadata": {},
   "source": [
    "This time, we are going to read in a dataset directly from the package `RDatasets`. Use the following syntax \n",
    "```dataset(\"Ecdat\", \"Icecream\")```\n",
    "\n",
    "and save it as a dataframe called `icecream`. \n",
    "\n",
    "The dataset is on the ice cream consumption. The columns are:\n",
    "* `Cons`: consumption level of ice cream\n",
    "* `Income`: income level\n",
    "* `Price`: price of ice cream\n",
    "* `Temperature`: outside temperature at time of measurement\n",
    "\n",
    "Inspect the first few rows of the data."
   ]
  },
  {
   "cell_type": "code",
   "execution_count": null,
   "metadata": {},
   "outputs": [],
   "source": [
    "using RDatasets\n",
    "icecream = dataset(\"Ecdat\", \"Icecream\")\n",
    "first(icecream,5)"
   ]
  },
  {
   "cell_type": "markdown",
   "metadata": {},
   "source": [
    "### Task 1:\n",
    "How is income related to Consumption?"
   ]
  },
  {
   "cell_type": "code",
   "execution_count": null,
   "metadata": {},
   "outputs": [],
   "source": [
    "scatter(icecream[!,:Income], icecream[!,:Cons],\n",
    "    xlabel = \"Income\", ylabel = \"Consumption\")"
   ]
  },
  {
   "cell_type": "markdown",
   "metadata": {},
   "source": [
    "### Task 2:\n",
    "Create the `Revenue` variable as the product between `Price` and `Cons`. \n",
    "\n",
    "Do you see a positive relationship between the temperature and revenue?"
   ]
  },
  {
   "cell_type": "code",
   "execution_count": 1,
   "metadata": {},
   "outputs": [
    {
     "ename": "UndefVarError",
     "evalue": "UndefVarError: icecream not defined",
     "output_type": "error",
     "traceback": [
      "UndefVarError: icecream not defined",
      "",
      "Stacktrace:",
      " [1] top-level scope at In[1]:1"
     ]
    }
   ],
   "source": [
    "icecream[!,:Revenue] = icecream[!,:Price] .* icecream[!,:Cons]\n",
    "scatter(icecream[!,:Temp], icecream[!,:Revenue],\n",
    "xlabel = \"Temperature\", ylabel = \"Revenue\")"
   ]
  },
  {
   "cell_type": "markdown",
   "metadata": {},
   "source": [
    "### Task 3:\n",
    "Create a new variable `IncomeGroup` that assigns label to each row based on how much income was recorded (e.g. you could have 'low', 'medium' and 'high' groups).\n",
    "\n",
    "Plot the distribution of the consumption over the different groups. What do you find?"
   ]
  },
  {
   "cell_type": "code",
   "execution_count": null,
   "metadata": {},
   "outputs": [],
   "source": [
    "function get_income_group(x)\n",
    "    if (x < 80) \n",
    "        gr = \"low\"\n",
    "    elseif (x < 85)\n",
    "        gr = \"medium\"\n",
    "    else \n",
    "        gr = \"high\"\n",
    "    end\n",
    "end\n",
    "\n",
    "icecream[!,:IncomeGroup] = map(get_income_group,icecream[!,:Income])"
   ]
  },
  {
   "cell_type": "code",
   "execution_count": null,
   "metadata": {},
   "outputs": [],
   "source": [
    "boxplot(icecream[!,:IncomeGroup], icecream[!,:Cons], leg=false,\n",
    "xlabel = \"Income group\", ylabel = \"Consumption\")"
   ]
  },
  {
   "cell_type": "code",
   "execution_count": null,
   "metadata": {},
   "outputs": [],
   "source": []
  }
 ],
 "metadata": {
  "kernelspec": {
   "display_name": "Julia 1.2.0",
   "language": "julia",
   "name": "julia-1.2"
  },
  "language_info": {
   "file_extension": ".jl",
   "mimetype": "application/julia",
   "name": "julia",
   "version": "1.2.0"
  }
 },
 "nbformat": 4,
 "nbformat_minor": 2
}
