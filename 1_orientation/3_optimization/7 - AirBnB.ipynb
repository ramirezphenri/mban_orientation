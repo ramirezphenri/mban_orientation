{
 "cells": [
  {
   "cell_type": "markdown",
   "metadata": {},
   "source": [
    "# AirBnB assignment problem\n",
    "\n",
    "You are planning a weekend vacation in Boston for a large group of students. You would like to stay in AirBnB's, since this is generally cheaper than staying at an hotel.\n",
    "Unfortunately, this is quite complicated to organize!\n",
    "\n",
    "* AirBnBs accommodate different numbers of guests, so it is difficult to divide everyone into groups\n",
    "* Since there are many of you, some people might try to book the same listings and be disappointed\n",
    "* All the AirBnBs have different features and prices\n",
    "\n",
    "Instead of everyone trying to organize their own groups and bookings, you have volunteered to formulate an optimization model to determine where each person should stay.\n",
    "You sent out an initial survey to your classmates to find out what preferences and constraints you need to consider:\n",
    "* Some students requested to be placed in a Male only/Female only lisitng, while some were happy to share with anyone\n",
    "* Some students requested specific amenities: Kitchen, Air-con etc.\n",
    "\n",
    "You also decided to restrict the listings that you would consider based on certain criteria\n",
    "* You all want to be near each other for group activities, so we will only consider listings in certain neighbourhoods near central Boston or Back Bay\n",
    "* We will only consider listings with high review scores"
   ]
  },
  {
   "cell_type": "markdown",
   "metadata": {},
   "source": [
    "Before you begin, check your current working directory. If this is not inside the folder \"3_optimization\", change it to this location using the `cd()` function.\n",
    "\n",
    "Note: for Windows paths, use \"\\\\\". For UNIX systems, use \"/\"."
   ]
  },
  {
   "cell_type": "code",
   "execution_count": 32,
   "metadata": {},
   "outputs": [
    {
     "data": {
      "text/plain": [
       "\"/Users/pierre-henri.ramirez/Documents/GitHub/mban_orientation/1_orientation/3_optimization\""
      ]
     },
     "execution_count": 32,
     "metadata": {},
     "output_type": "execute_result"
    }
   ],
   "source": [
    "pwd()"
   ]
  },
  {
   "cell_type": "code",
   "execution_count": 33,
   "metadata": {},
   "outputs": [],
   "source": [
    "# set the working directory to the 3_optimization folder\n",
    "#cd(\"C:\\\\Users\\\\Name\\\\Desktop\\\\mban_orientation\\\\1_orientation\\\\3_optimization\\\\\")\n",
    "#cd(\"/Users/Name/Desktop/mban_orientation/1_orientation/3_optimization/\")"
   ]
  },
  {
   "cell_type": "code",
   "execution_count": 34,
   "metadata": {},
   "outputs": [],
   "source": [
    "# load packages\n",
    "using JuMP, Gurobi, DataFrames, CSV"
   ]
  },
  {
   "cell_type": "markdown",
   "metadata": {},
   "source": [
    "## Data\n",
    "\n",
    "Yesterday we practiced filtering and manipulating the AirBnB data in R. Instead of starting from scratch in Julia, let's use our R skills to do some initial data processing.\n",
    "To do this, we'll need to do the following:\n",
    "* an R script that contains all the code we want to run: input_data.R\n",
    "* a way to tell Julia to run the R script\n",
    "* a way to read the output files from the R script into Julia (we'll save the output as a csv file in R, then read this file in Julia)\n",
    "\n",
    "How do we do the middle step? \n",
    "UNIX:\n",
    "* the ``run( [command] )`` function tells Julia to send a command to the terminal\n",
    "* the `Rscript [script] [arguments]` command tells your computer to open an R session and run a specific script\n",
    "\n",
    "Windows:\n",
    "* the ``run( [command] )`` function tells Julia to send a command to the terminal\n",
    "* the `Rscript.exe [script] [arguments]` command tells your computer to open an R session and run a specific script. You will need to figure out where the file \"Rscrip.exe\" is located on your computer and provide the path to this file.\n",
    "\n",
    "Note: if this doesn't work on your computer, open the R script in RStudio. Set the `date` variable in the script and run the code manually.\n"
   ]
  },
  {
   "cell_type": "code",
   "execution_count": 35,
   "metadata": {
    "scrolled": true
   },
   "outputs": [
    {
     "data": {
      "text/plain": [
       "\"2019-11-25\""
      ]
     },
     "execution_count": 35,
     "metadata": {},
     "output_type": "execute_result"
    }
   ],
   "source": [
    "# our R script takes one argument: the date that we will start our stay\n",
    "# set the date that we want to start our booking\n",
    "date = \"2019-11-25\"\n",
    "\n",
    "# this line will run the R script \n",
    "#run(`Rscript input_data.R $date`)\n",
    "#run(`\"C:\\Program Files\\R\\R-3.6.1\\bin\\Rscript.exe\" input_data.R $date`)"
   ]
  },
  {
   "cell_type": "code",
   "execution_count": 36,
   "metadata": {},
   "outputs": [
    {
     "data": {
      "text/plain": [
       "61"
      ]
     },
     "execution_count": 36,
     "metadata": {},
     "output_type": "execute_result"
    }
   ],
   "source": [
    "L=size(listings,1)"
   ]
  },
  {
   "cell_type": "code",
   "execution_count": 37,
   "metadata": {
    "scrolled": true
   },
   "outputs": [
    {
     "name": "stdout",
     "output_type": "stream",
     "text": [
      "There are 61 listings available on 2019-11-25\n"
     ]
    },
    {
     "data": {
      "text/html": [
       "<table class=\"data-frame\"><thead><tr><th></th><th>id</th><th>listing_url</th><th>scrape_id</th><th>last_scraped</th><th>name</th></tr><tr><th></th><th>Int64</th><th>String</th><th>Int64</th><th>Dates…</th><th>String</th></tr></thead><tbody><p>5 rows × 109 columns (omitted printing of 104 columns)</p><tr><th>1</th><td>820073</td><td>https://www.airbnb.com/rooms/820073</td><td>20190714024644</td><td>2019-07-14</td><td>Modern Loft, 1700 SqFt. Location!</td></tr><tr><th>2</th><td>1868124</td><td>https://www.airbnb.com/rooms/1868124</td><td>20190714024644</td><td>2019-07-14</td><td>Lux Downtown Boston 1 Bedroom Apt w/pool</td></tr><tr><th>3</th><td>1868513</td><td>https://www.airbnb.com/rooms/1868513</td><td>20190714024644</td><td>2019-07-14</td><td>Lux 1 Bedroom in Post-War Back Bay building w/WiFi</td></tr><tr><th>4</th><td>1966195</td><td>https://www.airbnb.com/rooms/1966195</td><td>20190714024644</td><td>2019-07-14</td><td>Lux Downtown Boston 2 Bedroom Apt w/pool</td></tr><tr><th>5</th><td>2187766</td><td>https://www.airbnb.com/rooms/2187766</td><td>20190714024644</td><td>2019-07-14</td><td>Lux Downtown Boston 2 Bedroom Apt w/pool</td></tr></tbody></table>"
      ],
      "text/latex": [
       "\\begin{tabular}{r|cccccc}\n",
       "\t& id & listing\\_url & scrape\\_id & last\\_scraped & name & \\\\\n",
       "\t\\hline\n",
       "\t& Int64 & String & Int64 & Dates… & String & \\\\\n",
       "\t\\hline\n",
       "\t1 & 820073 & https://www.airbnb.com/rooms/820073 & 20190714024644 & 2019-07-14 & Modern Loft, 1700 SqFt. Location! & $\\dots$ \\\\\n",
       "\t2 & 1868124 & https://www.airbnb.com/rooms/1868124 & 20190714024644 & 2019-07-14 & Lux Downtown Boston 1 Bedroom Apt w/pool & $\\dots$ \\\\\n",
       "\t3 & 1868513 & https://www.airbnb.com/rooms/1868513 & 20190714024644 & 2019-07-14 & Lux 1 Bedroom in Post-War Back Bay building w/WiFi & $\\dots$ \\\\\n",
       "\t4 & 1966195 & https://www.airbnb.com/rooms/1966195 & 20190714024644 & 2019-07-14 & Lux Downtown Boston 2 Bedroom Apt w/pool & $\\dots$ \\\\\n",
       "\t5 & 2187766 & https://www.airbnb.com/rooms/2187766 & 20190714024644 & 2019-07-14 & Lux Downtown Boston 2 Bedroom Apt w/pool & $\\dots$ \\\\\n",
       "\\end{tabular}\n"
      ],
      "text/plain": [
       "5×109 DataFrame. Omitted printing of 106 columns\n",
       "│ Row │ id      │ listing_url                          │ scrape_id      │\n",
       "│     │ \u001b[90mInt64\u001b[39m   │ \u001b[90mString\u001b[39m                               │ \u001b[90mInt64\u001b[39m          │\n",
       "├─────┼─────────┼──────────────────────────────────────┼────────────────┤\n",
       "│ 1   │ 820073  │ https://www.airbnb.com/rooms/820073  │ 20190714024644 │\n",
       "│ 2   │ 1868124 │ https://www.airbnb.com/rooms/1868124 │ 20190714024644 │\n",
       "│ 3   │ 1868513 │ https://www.airbnb.com/rooms/1868513 │ 20190714024644 │\n",
       "│ 4   │ 1966195 │ https://www.airbnb.com/rooms/1966195 │ 20190714024644 │\n",
       "│ 5   │ 2187766 │ https://www.airbnb.com/rooms/2187766 │ 20190714024644 │"
      ]
     },
     "execution_count": 37,
     "metadata": {},
     "output_type": "execute_result"
    }
   ],
   "source": [
    "# now, let's read in the output that we saved from this script \n",
    "listings = CSV.read(\"filtered_listings.csv\")\n",
    "L=size(listings,1)\n",
    "println(\"There are $L listings available on $date\")\n",
    "first(listings,5)"
   ]
  },
  {
   "cell_type": "markdown",
   "metadata": {},
   "source": [
    "The file that we have read into Julia contains all the listings that are available for a 3-night stay starting on our specified date. The columns of this DataFrame include all the original AirBnB data, plus a few new columns that we added in the R script. For example, we added new columns to indicate whether each listing has certain amenities."
   ]
  },
  {
   "cell_type": "code",
   "execution_count": 38,
   "metadata": {
    "scrolled": true
   },
   "outputs": [
    {
     "data": {
      "text/html": [
       "<table class=\"data-frame\"><thead><tr><th></th><th>Kitchen</th><th>Air_conditioning</th></tr><tr><th></th><th>Int64</th><th>Int64</th></tr></thead><tbody><p>61 rows × 2 columns</p><tr><th>1</th><td>1</td><td>1</td></tr><tr><th>2</th><td>1</td><td>1</td></tr><tr><th>3</th><td>1</td><td>1</td></tr><tr><th>4</th><td>1</td><td>1</td></tr><tr><th>5</th><td>1</td><td>1</td></tr><tr><th>6</th><td>1</td><td>1</td></tr><tr><th>7</th><td>1</td><td>1</td></tr><tr><th>8</th><td>1</td><td>1</td></tr><tr><th>9</th><td>1</td><td>1</td></tr><tr><th>10</th><td>1</td><td>1</td></tr><tr><th>11</th><td>1</td><td>1</td></tr><tr><th>12</th><td>1</td><td>1</td></tr><tr><th>13</th><td>1</td><td>1</td></tr><tr><th>14</th><td>1</td><td>1</td></tr><tr><th>15</th><td>1</td><td>1</td></tr><tr><th>16</th><td>1</td><td>1</td></tr><tr><th>17</th><td>1</td><td>1</td></tr><tr><th>18</th><td>1</td><td>1</td></tr><tr><th>19</th><td>1</td><td>1</td></tr><tr><th>20</th><td>1</td><td>0</td></tr><tr><th>21</th><td>1</td><td>1</td></tr><tr><th>22</th><td>1</td><td>1</td></tr><tr><th>23</th><td>1</td><td>0</td></tr><tr><th>24</th><td>1</td><td>1</td></tr><tr><th>25</th><td>1</td><td>1</td></tr><tr><th>26</th><td>1</td><td>1</td></tr><tr><th>27</th><td>1</td><td>1</td></tr><tr><th>28</th><td>1</td><td>1</td></tr><tr><th>29</th><td>1</td><td>1</td></tr><tr><th>30</th><td>1</td><td>1</td></tr><tr><th>&vellip;</th><td>&vellip;</td><td>&vellip;</td></tr></tbody></table>"
      ],
      "text/latex": [
       "\\begin{tabular}{r|cc}\n",
       "\t& Kitchen & Air\\_conditioning\\\\\n",
       "\t\\hline\n",
       "\t& Int64 & Int64\\\\\n",
       "\t\\hline\n",
       "\t1 & 1 & 1 \\\\\n",
       "\t2 & 1 & 1 \\\\\n",
       "\t3 & 1 & 1 \\\\\n",
       "\t4 & 1 & 1 \\\\\n",
       "\t5 & 1 & 1 \\\\\n",
       "\t6 & 1 & 1 \\\\\n",
       "\t7 & 1 & 1 \\\\\n",
       "\t8 & 1 & 1 \\\\\n",
       "\t9 & 1 & 1 \\\\\n",
       "\t10 & 1 & 1 \\\\\n",
       "\t11 & 1 & 1 \\\\\n",
       "\t12 & 1 & 1 \\\\\n",
       "\t13 & 1 & 1 \\\\\n",
       "\t14 & 1 & 1 \\\\\n",
       "\t15 & 1 & 1 \\\\\n",
       "\t16 & 1 & 1 \\\\\n",
       "\t17 & 1 & 1 \\\\\n",
       "\t18 & 1 & 1 \\\\\n",
       "\t19 & 1 & 1 \\\\\n",
       "\t20 & 1 & 0 \\\\\n",
       "\t21 & 1 & 1 \\\\\n",
       "\t22 & 1 & 1 \\\\\n",
       "\t23 & 1 & 0 \\\\\n",
       "\t24 & 1 & 1 \\\\\n",
       "\t25 & 1 & 1 \\\\\n",
       "\t26 & 1 & 1 \\\\\n",
       "\t27 & 1 & 1 \\\\\n",
       "\t28 & 1 & 1 \\\\\n",
       "\t29 & 1 & 1 \\\\\n",
       "\t30 & 1 & 1 \\\\\n",
       "\t$\\dots$ & $\\dots$ & $\\dots$ \\\\\n",
       "\\end{tabular}\n"
      ],
      "text/plain": [
       "61×2 DataFrame\n",
       "│ Row │ Kitchen │ Air_conditioning │\n",
       "│     │ \u001b[90mInt64\u001b[39m   │ \u001b[90mInt64\u001b[39m            │\n",
       "├─────┼─────────┼──────────────────┤\n",
       "│ 1   │ 1       │ 1                │\n",
       "│ 2   │ 1       │ 1                │\n",
       "│ 3   │ 1       │ 1                │\n",
       "│ 4   │ 1       │ 1                │\n",
       "│ 5   │ 1       │ 1                │\n",
       "│ 6   │ 1       │ 1                │\n",
       "│ 7   │ 1       │ 1                │\n",
       "│ 8   │ 1       │ 1                │\n",
       "│ 9   │ 1       │ 1                │\n",
       "│ 10  │ 1       │ 1                │\n",
       "⋮\n",
       "│ 51  │ 0       │ 0                │\n",
       "│ 52  │ 1       │ 1                │\n",
       "│ 53  │ 0       │ 0                │\n",
       "│ 54  │ 0       │ 0                │\n",
       "│ 55  │ 0       │ 1                │\n",
       "│ 56  │ 1       │ 1                │\n",
       "│ 57  │ 1       │ 1                │\n",
       "│ 58  │ 1       │ 1                │\n",
       "│ 59  │ 1       │ 0                │\n",
       "│ 60  │ 0       │ 1                │\n",
       "│ 61  │ 0       │ 1                │"
      ]
     },
     "execution_count": 38,
     "metadata": {},
     "output_type": "execute_result"
    }
   ],
   "source": [
    "# Let's check if our amenity columns have been added\n",
    "amenities = [:Kitchen,:Air_conditioning]\n",
    "listings[!,amenities]"
   ]
  },
  {
   "cell_type": "code",
   "execution_count": 39,
   "metadata": {},
   "outputs": [
    {
     "data": {
      "text/plain": [
       "61-element CSV.Column{Float64,Float64}:\n",
       " 1566.0\n",
       " 1266.0\n",
       " 1335.0\n",
       " 1749.0\n",
       " 1749.0\n",
       " 1335.0\n",
       "  810.0\n",
       "  882.0\n",
       "  975.0\n",
       "  800.0\n",
       " 1749.0\n",
       " 2250.0\n",
       " 1084.0\n",
       "    ⋮  \n",
       "  723.0\n",
       "  615.0\n",
       " 1056.0\n",
       "  675.0\n",
       "  510.0\n",
       " 1197.0\n",
       "  994.0\n",
       "  663.0\n",
       "  750.0\n",
       "  181.0\n",
       "  195.0\n",
       "  225.0"
      ]
     },
     "execution_count": 39,
     "metadata": {},
     "output_type": "execute_result"
    }
   ],
   "source": [
    "# select the column in the listings data that gives the cost on this date\n",
    "cost = listings[!,Symbol(\"stay 1\")]"
   ]
  },
  {
   "cell_type": "markdown",
   "metadata": {},
   "source": [
    "Now let's read in the date we gathered about students' accommodation preferences."
   ]
  },
  {
   "cell_type": "code",
   "execution_count": 40,
   "metadata": {},
   "outputs": [
    {
     "data": {
      "text/html": [
       "<table class=\"data-frame\"><thead><tr><th></th><th>Name</th><th>room_F</th><th>room_M</th><th>room_A</th><th>Air_conditioning</th><th>Kitchen</th><th>Gym</th></tr><tr><th></th><th>String</th><th>Int64</th><th>Int64</th><th>Int64</th><th>Int64</th><th>Int64</th><th>Int64</th></tr></thead><tbody><p>5 rows × 10 columns (omitted printing of 3 columns)</p><tr><th>1</th><td>John Nicholas</td><td>0</td><td>1</td><td>1</td><td>1</td><td>1</td><td>1</td></tr><tr><th>2</th><td>Michael Rudahl</td><td>0</td><td>1</td><td>0</td><td>1</td><td>1</td><td>0</td></tr><tr><th>3</th><td>All A-Sloan</td><td>1</td><td>0</td><td>1</td><td>1</td><td>0</td><td>0</td></tr><tr><th>4</th><td>JM</td><td>1</td><td>0</td><td>0</td><td>1</td><td>1</td><td>0</td></tr><tr><th>5</th><td>Joey Khoury El Aramouni</td><td>0</td><td>0</td><td>1</td><td>1</td><td>0</td><td>0</td></tr></tbody></table>"
      ],
      "text/latex": [
       "\\begin{tabular}{r|cccccccc}\n",
       "\t& Name & room\\_F & room\\_M & room\\_A & Air\\_conditioning & Kitchen & Gym & \\\\\n",
       "\t\\hline\n",
       "\t& String & Int64 & Int64 & Int64 & Int64 & Int64 & Int64 & \\\\\n",
       "\t\\hline\n",
       "\t1 & John Nicholas & 0 & 1 & 1 & 1 & 1 & 1 & $\\dots$ \\\\\n",
       "\t2 & Michael Rudahl & 0 & 1 & 0 & 1 & 1 & 0 & $\\dots$ \\\\\n",
       "\t3 & All A-Sloan & 1 & 0 & 1 & 1 & 0 & 0 & $\\dots$ \\\\\n",
       "\t4 & JM & 1 & 0 & 0 & 1 & 1 & 0 & $\\dots$ \\\\\n",
       "\t5 & Joey Khoury El Aramouni & 0 & 0 & 1 & 1 & 0 & 0 & $\\dots$ \\\\\n",
       "\\end{tabular}\n"
      ],
      "text/plain": [
       "5×10 DataFrame. Omitted printing of 5 columns\n",
       "│ Row │ Name                    │ room_F │ room_M │ room_A │ Air_conditioning │\n",
       "│     │ \u001b[90mString\u001b[39m                  │ \u001b[90mInt64\u001b[39m  │ \u001b[90mInt64\u001b[39m  │ \u001b[90mInt64\u001b[39m  │ \u001b[90mInt64\u001b[39m            │\n",
       "├─────┼─────────────────────────┼────────┼────────┼────────┼──────────────────┤\n",
       "│ 1   │ John Nicholas           │ 0      │ 1      │ 1      │ 1                │\n",
       "│ 2   │ Michael Rudahl          │ 0      │ 1      │ 0      │ 1                │\n",
       "│ 3   │ All A-Sloan             │ 1      │ 0      │ 1      │ 1                │\n",
       "│ 4   │ JM                      │ 1      │ 0      │ 0      │ 1                │\n",
       "│ 5   │ Joey Khoury El Aramouni │ 0      │ 0      │ 1      │ 1                │"
      ]
     },
     "execution_count": 40,
     "metadata": {},
     "output_type": "execute_result"
    }
   ],
   "source": [
    "preferences = CSV.read(\"preferences.csv\")\n",
    "N=size(preferences,1)\n",
    "first(preferences,5)"
   ]
  },
  {
   "cell_type": "markdown",
   "metadata": {},
   "source": [
    "## Model formulaton\n",
    "\n",
    "Now that we have all our data, let's formulate a model to select the cheapest set of listings that we could book to accommodate everyone.\n",
    "* We need to decide which listings to book. We'll need a **binary** variable to represent whether we should book each listing: $$y_j =\\begin{cases} 1 & \\text{if we book listing $j$} \\\\ 0& \\text{if we don't book listing $j$}\\end{cases}$$\n",
    "* We need to decide who will stay in each listing that we book: $$x_{ij} =\\begin{cases} 1 & \\text{if person $i$ stays in listing $j$} \\\\ 0& \\text{if not}\\end{cases}$$\n",
    "* We need a cost function to calculate the total price of our bookings: $$\\sum_{j=1}^L cost_j y_j$$\n",
    "\n",
    "We also need some constraints to make sure our solution is feasible:\n",
    "\n",
    "$ \\sum_{j=1}^{L} x_{ij} = 1 \\text{ for } i=1,\\dots,N$ (each person is assigned to exactly one listing)\n",
    "\n",
    "$ x_{ij} \\leq y_j \\text{ for } i=1,\\dots,N; \\ j=1,\\dots,L $ (can only assign people to listings that we book)\n",
    "\n",
    "$ \\sum_{i=1}^{N} x_{ij} \\leq \\text{accommodates}_j \\text{ for } j=1,\\dots,L$ (we can't assign more people than the listing allows)"
   ]
  },
  {
   "cell_type": "code",
   "execution_count": 41,
   "metadata": {
    "scrolled": true
   },
   "outputs": [
    {
     "data": {
      "text/html": [
       "<table class=\"data-frame\"><thead><tr><th></th><th>id</th><th>listing_url</th><th>scrape_id</th><th>last_scraped</th><th>name</th></tr><tr><th></th><th>Int64</th><th>String</th><th>Int64</th><th>Dates…</th><th>String</th></tr></thead><tbody><p>61 rows × 109 columns (omitted printing of 104 columns)</p><tr><th>1</th><td>820073</td><td>https://www.airbnb.com/rooms/820073</td><td>20190714024644</td><td>2019-07-14</td><td>Modern Loft, 1700 SqFt. Location!</td></tr><tr><th>2</th><td>1868124</td><td>https://www.airbnb.com/rooms/1868124</td><td>20190714024644</td><td>2019-07-14</td><td>Lux Downtown Boston 1 Bedroom Apt w/pool</td></tr><tr><th>3</th><td>1868513</td><td>https://www.airbnb.com/rooms/1868513</td><td>20190714024644</td><td>2019-07-14</td><td>Lux 1 Bedroom in Post-War Back Bay building w/WiFi</td></tr><tr><th>4</th><td>1966195</td><td>https://www.airbnb.com/rooms/1966195</td><td>20190714024644</td><td>2019-07-14</td><td>Lux Downtown Boston 2 Bedroom Apt w/pool</td></tr><tr><th>5</th><td>2187766</td><td>https://www.airbnb.com/rooms/2187766</td><td>20190714024644</td><td>2019-07-14</td><td>Lux Downtown Boston 2 Bedroom Apt w/pool</td></tr><tr><th>6</th><td>4044840</td><td>https://www.airbnb.com/rooms/4044840</td><td>20190714024644</td><td>2019-07-14</td><td>Lux 1 Bedroom in Post-War Back Bay building w/WiFi</td></tr><tr><th>7</th><td>5903001</td><td>https://www.airbnb.com/rooms/5903001</td><td>20190714024644</td><td>2019-07-14</td><td>Boston Back Bay/Copley Square</td></tr><tr><th>8</th><td>8830015</td><td>https://www.airbnb.com/rooms/8830015</td><td>20190714024644</td><td>2019-07-14</td><td>Downtown, Modern 2bd APT</td></tr><tr><th>9</th><td>9346513</td><td>https://www.airbnb.com/rooms/9346513</td><td>20190714024644</td><td>2019-07-14</td><td>Superb 1BR Back Bay Condo</td></tr><tr><th>10</th><td>11201204</td><td>https://www.airbnb.com/rooms/11201204</td><td>20190714024644</td><td>2019-07-14</td><td>Stylish Back Bay Studio, Steps to Newbury &amp; Hynes</td></tr><tr><th>11</th><td>12383703</td><td>https://www.airbnb.com/rooms/12383703</td><td>20190714024644</td><td>2019-07-14</td><td>Downtown Boston 2BR Apt- Indoor Pool!</td></tr><tr><th>12</th><td>13466910</td><td>https://www.airbnb.com/rooms/13466910</td><td>20190714024644</td><td>2019-07-14</td><td>Newbury St, LUXURY Penthouse! Private Decks!!!</td></tr><tr><th>13</th><td>14897997</td><td>https://www.airbnb.com/rooms/14897997</td><td>20190714024644</td><td>2019-07-14</td><td>Spacious 2BR in Financial District by Sonder</td></tr><tr><th>14</th><td>14994014</td><td>https://www.airbnb.com/rooms/14994014</td><td>20190714024644</td><td>2019-07-14</td><td>Downtown!!Stay in a modern apt, walk everywhere!</td></tr><tr><th>15</th><td>15127120</td><td>https://www.airbnb.com/rooms/15127120</td><td>20190714024644</td><td>2019-07-14</td><td>Sonder | Winthrop Square | Sleek Studio + Laundry</td></tr><tr><th>16</th><td>15166858</td><td>https://www.airbnb.com/rooms/15166858</td><td>20190714024644</td><td>2019-07-14</td><td>(BB-2R) Back Bay Beautiful Beacon Street Studio!</td></tr><tr><th>17</th><td>15284641</td><td>https://www.airbnb.com/rooms/15284641</td><td>20190714024644</td><td>2019-07-14</td><td>3 Bdrm 2BA Apt Quiet Renovated Top Loc. Parking!</td></tr><tr><th>18</th><td>15338096</td><td>https://www.airbnb.com/rooms/15338096</td><td>20190714024644</td><td>2019-07-14</td><td>Sonder | Winthrop Square | Airy Studio + Laundry</td></tr><tr><th>19</th><td>15504162</td><td>https://www.airbnb.com/rooms/15504162</td><td>20190714024644</td><td>2019-07-14</td><td>Designer Studio &amp; Patio, Hot-Tub in Best Location</td></tr><tr><th>20</th><td>15581608</td><td>https://www.airbnb.com/rooms/15581608</td><td>20190714024644</td><td>2019-07-14</td><td>New Stylish Studio Overlooking Newbury Street!</td></tr><tr><th>21</th><td>15582062</td><td>https://www.airbnb.com/rooms/15582062</td><td>20190714024644</td><td>2019-07-14</td><td>Cozy Studio on Enchanting Newbury Street!</td></tr><tr><th>22</th><td>17573922</td><td>https://www.airbnb.com/rooms/17573922</td><td>20190714024644</td><td>2019-07-14</td><td>NEW 1st Floor, 1BR Downtown Boston</td></tr><tr><th>23</th><td>19084632</td><td>https://www.airbnb.com/rooms/19084632</td><td>20190714024644</td><td>2019-07-14</td><td>Private Room in Back Bay for the Summer!</td></tr><tr><th>24</th><td>20635474</td><td>https://www.airbnb.com/rooms/20635474</td><td>20190714024644</td><td>2019-07-14</td><td>(104) Back Bay Studio - Prime Location/ St Botolph</td></tr><tr><th>25</th><td>21238643</td><td>https://www.airbnb.com/rooms/21238643</td><td>20190714024644</td><td>2019-07-14</td><td>Sonder | Boston Common | Desirable 1BR + Laundry</td></tr><tr><th>26</th><td>21238984</td><td>https://www.airbnb.com/rooms/21238984</td><td>20190714024644</td><td>2019-07-14</td><td>Sonder | Boston Common | Lovely 1BR + Laundry</td></tr><tr><th>27</th><td>21240348</td><td>https://www.airbnb.com/rooms/21240348</td><td>20190714024644</td><td>2019-07-14</td><td>Sonder | Boston Common | Elegant 1BR + Laundry</td></tr><tr><th>28</th><td>21438537</td><td>https://www.airbnb.com/rooms/21438537</td><td>20190714024644</td><td>2019-07-14</td><td>Sonder | Boston Common | Classic 1BR + Laundry</td></tr><tr><th>29</th><td>21460989</td><td>https://www.airbnb.com/rooms/21460989</td><td>20190714024644</td><td>2019-07-14</td><td>Charming Spacious 1BR in Back Bay Marlborough St</td></tr><tr><th>30</th><td>21547937</td><td>https://www.airbnb.com/rooms/21547937</td><td>20190714024644</td><td>2019-07-14</td><td>Huge Loft in the Heart of Boston | Walk Everywhere</td></tr><tr><th>&vellip;</th><td>&vellip;</td><td>&vellip;</td><td>&vellip;</td><td>&vellip;</td><td>&vellip;</td></tr></tbody></table>"
      ],
      "text/latex": [
       "\\begin{tabular}{r|cccccc}\n",
       "\t& id & listing\\_url & scrape\\_id & last\\_scraped & name & \\\\\n",
       "\t\\hline\n",
       "\t& Int64 & String & Int64 & Dates… & String & \\\\\n",
       "\t\\hline\n",
       "\t1 & 820073 & https://www.airbnb.com/rooms/820073 & 20190714024644 & 2019-07-14 & Modern Loft, 1700 SqFt. Location! & $\\dots$ \\\\\n",
       "\t2 & 1868124 & https://www.airbnb.com/rooms/1868124 & 20190714024644 & 2019-07-14 & Lux Downtown Boston 1 Bedroom Apt w/pool & $\\dots$ \\\\\n",
       "\t3 & 1868513 & https://www.airbnb.com/rooms/1868513 & 20190714024644 & 2019-07-14 & Lux 1 Bedroom in Post-War Back Bay building w/WiFi & $\\dots$ \\\\\n",
       "\t4 & 1966195 & https://www.airbnb.com/rooms/1966195 & 20190714024644 & 2019-07-14 & Lux Downtown Boston 2 Bedroom Apt w/pool & $\\dots$ \\\\\n",
       "\t5 & 2187766 & https://www.airbnb.com/rooms/2187766 & 20190714024644 & 2019-07-14 & Lux Downtown Boston 2 Bedroom Apt w/pool & $\\dots$ \\\\\n",
       "\t6 & 4044840 & https://www.airbnb.com/rooms/4044840 & 20190714024644 & 2019-07-14 & Lux 1 Bedroom in Post-War Back Bay building w/WiFi & $\\dots$ \\\\\n",
       "\t7 & 5903001 & https://www.airbnb.com/rooms/5903001 & 20190714024644 & 2019-07-14 & Boston Back Bay/Copley Square & $\\dots$ \\\\\n",
       "\t8 & 8830015 & https://www.airbnb.com/rooms/8830015 & 20190714024644 & 2019-07-14 & Downtown, Modern 2bd APT & $\\dots$ \\\\\n",
       "\t9 & 9346513 & https://www.airbnb.com/rooms/9346513 & 20190714024644 & 2019-07-14 & Superb 1BR Back Bay Condo & $\\dots$ \\\\\n",
       "\t10 & 11201204 & https://www.airbnb.com/rooms/11201204 & 20190714024644 & 2019-07-14 & Stylish Back Bay Studio, Steps to Newbury \\& Hynes & $\\dots$ \\\\\n",
       "\t11 & 12383703 & https://www.airbnb.com/rooms/12383703 & 20190714024644 & 2019-07-14 & Downtown Boston 2BR Apt- Indoor Pool! & $\\dots$ \\\\\n",
       "\t12 & 13466910 & https://www.airbnb.com/rooms/13466910 & 20190714024644 & 2019-07-14 & Newbury St, LUXURY Penthouse! Private Decks!!! & $\\dots$ \\\\\n",
       "\t13 & 14897997 & https://www.airbnb.com/rooms/14897997 & 20190714024644 & 2019-07-14 & Spacious 2BR in Financial District by Sonder & $\\dots$ \\\\\n",
       "\t14 & 14994014 & https://www.airbnb.com/rooms/14994014 & 20190714024644 & 2019-07-14 & Downtown!!Stay in a modern apt, walk everywhere! & $\\dots$ \\\\\n",
       "\t15 & 15127120 & https://www.airbnb.com/rooms/15127120 & 20190714024644 & 2019-07-14 & Sonder | Winthrop Square | Sleek Studio + Laundry & $\\dots$ \\\\\n",
       "\t16 & 15166858 & https://www.airbnb.com/rooms/15166858 & 20190714024644 & 2019-07-14 & (BB-2R) Back Bay Beautiful Beacon Street Studio! & $\\dots$ \\\\\n",
       "\t17 & 15284641 & https://www.airbnb.com/rooms/15284641 & 20190714024644 & 2019-07-14 & 3 Bdrm 2BA Apt Quiet Renovated Top Loc. Parking! & $\\dots$ \\\\\n",
       "\t18 & 15338096 & https://www.airbnb.com/rooms/15338096 & 20190714024644 & 2019-07-14 & Sonder | Winthrop Square | Airy Studio + Laundry & $\\dots$ \\\\\n",
       "\t19 & 15504162 & https://www.airbnb.com/rooms/15504162 & 20190714024644 & 2019-07-14 & Designer Studio \\& Patio, Hot-Tub in Best Location & $\\dots$ \\\\\n",
       "\t20 & 15581608 & https://www.airbnb.com/rooms/15581608 & 20190714024644 & 2019-07-14 & New Stylish Studio Overlooking Newbury Street! & $\\dots$ \\\\\n",
       "\t21 & 15582062 & https://www.airbnb.com/rooms/15582062 & 20190714024644 & 2019-07-14 & Cozy Studio on Enchanting Newbury Street! & $\\dots$ \\\\\n",
       "\t22 & 17573922 & https://www.airbnb.com/rooms/17573922 & 20190714024644 & 2019-07-14 & NEW 1st Floor, 1BR Downtown Boston & $\\dots$ \\\\\n",
       "\t23 & 19084632 & https://www.airbnb.com/rooms/19084632 & 20190714024644 & 2019-07-14 & Private Room in Back Bay for the Summer! & $\\dots$ \\\\\n",
       "\t24 & 20635474 & https://www.airbnb.com/rooms/20635474 & 20190714024644 & 2019-07-14 & (104) Back Bay Studio - Prime Location/ St Botolph & $\\dots$ \\\\\n",
       "\t25 & 21238643 & https://www.airbnb.com/rooms/21238643 & 20190714024644 & 2019-07-14 & Sonder | Boston Common | Desirable 1BR + Laundry & $\\dots$ \\\\\n",
       "\t26 & 21238984 & https://www.airbnb.com/rooms/21238984 & 20190714024644 & 2019-07-14 & Sonder | Boston Common | Lovely 1BR + Laundry & $\\dots$ \\\\\n",
       "\t27 & 21240348 & https://www.airbnb.com/rooms/21240348 & 20190714024644 & 2019-07-14 & Sonder | Boston Common | Elegant 1BR + Laundry & $\\dots$ \\\\\n",
       "\t28 & 21438537 & https://www.airbnb.com/rooms/21438537 & 20190714024644 & 2019-07-14 & Sonder | Boston Common | Classic 1BR + Laundry & $\\dots$ \\\\\n",
       "\t29 & 21460989 & https://www.airbnb.com/rooms/21460989 & 20190714024644 & 2019-07-14 & Charming Spacious 1BR in Back Bay Marlborough St & $\\dots$ \\\\\n",
       "\t30 & 21547937 & https://www.airbnb.com/rooms/21547937 & 20190714024644 & 2019-07-14 & Huge Loft in the Heart of Boston | Walk Everywhere & $\\dots$ \\\\\n",
       "\t$\\dots$ & $\\dots$ & $\\dots$ & $\\dots$ & $\\dots$ & $\\dots$ &  \\\\\n",
       "\\end{tabular}\n"
      ],
      "text/plain": [
       "61×109 DataFrame. Omitted printing of 106 columns\n",
       "│ Row │ id       │ listing_url                           │ scrape_id      │\n",
       "│     │ \u001b[90mInt64\u001b[39m    │ \u001b[90mString\u001b[39m                                │ \u001b[90mInt64\u001b[39m          │\n",
       "├─────┼──────────┼───────────────────────────────────────┼────────────────┤\n",
       "│ 1   │ 820073   │ https://www.airbnb.com/rooms/820073   │ 20190714024644 │\n",
       "│ 2   │ 1868124  │ https://www.airbnb.com/rooms/1868124  │ 20190714024644 │\n",
       "│ 3   │ 1868513  │ https://www.airbnb.com/rooms/1868513  │ 20190714024644 │\n",
       "│ 4   │ 1966195  │ https://www.airbnb.com/rooms/1966195  │ 20190714024644 │\n",
       "│ 5   │ 2187766  │ https://www.airbnb.com/rooms/2187766  │ 20190714024644 │\n",
       "│ 6   │ 4044840  │ https://www.airbnb.com/rooms/4044840  │ 20190714024644 │\n",
       "│ 7   │ 5903001  │ https://www.airbnb.com/rooms/5903001  │ 20190714024644 │\n",
       "│ 8   │ 8830015  │ https://www.airbnb.com/rooms/8830015  │ 20190714024644 │\n",
       "│ 9   │ 9346513  │ https://www.airbnb.com/rooms/9346513  │ 20190714024644 │\n",
       "│ 10  │ 11201204 │ https://www.airbnb.com/rooms/11201204 │ 20190714024644 │\n",
       "⋮\n",
       "│ 51  │ 32570057 │ https://www.airbnb.com/rooms/32570057 │ 20190714024644 │\n",
       "│ 52  │ 32831210 │ https://www.airbnb.com/rooms/32831210 │ 20190714024644 │\n",
       "│ 53  │ 32861080 │ https://www.airbnb.com/rooms/32861080 │ 20190714024644 │\n",
       "│ 54  │ 32861086 │ https://www.airbnb.com/rooms/32861086 │ 20190714024644 │\n",
       "│ 55  │ 32982639 │ https://www.airbnb.com/rooms/32982639 │ 20190714024644 │\n",
       "│ 56  │ 33075564 │ https://www.airbnb.com/rooms/33075564 │ 20190714024644 │\n",
       "│ 57  │ 33136211 │ https://www.airbnb.com/rooms/33136211 │ 20190714024644 │\n",
       "│ 58  │ 33250560 │ https://www.airbnb.com/rooms/33250560 │ 20190714024644 │\n",
       "│ 59  │ 33549296 │ https://www.airbnb.com/rooms/33549296 │ 20190714024644 │\n",
       "│ 60  │ 34091288 │ https://www.airbnb.com/rooms/34091288 │ 20190714024644 │\n",
       "│ 61  │ 34174789 │ https://www.airbnb.com/rooms/34174789 │ 20190714024644 │"
      ]
     },
     "execution_count": 41,
     "metadata": {},
     "output_type": "execute_result"
    }
   ],
   "source": [
    "listings"
   ]
  },
  {
   "cell_type": "code",
   "execution_count": 42,
   "metadata": {},
   "outputs": [
    {
     "name": "stdout",
     "output_type": "stream",
     "text": [
      "Academic license - for non-commercial use only\n",
      "Academic license - for non-commercial use only\n",
      "Optimize a model with 3905 rows, 3843 columns and 15189 nonzeros\n",
      "Variable types: 0 continuous, 3843 integer (3843 binary)\n",
      "Coefficient statistics:\n",
      "  Matrix range     [1e+00, 7e+00]\n",
      "  Objective range  [2e+02, 3e+03]\n",
      "  Bounds range     [0e+00, 0e+00]\n",
      "  RHS range        [1e+00, 1e+00]\n",
      "Found heuristic solution: objective 36294.000000\n",
      "Presolve removed 248 rows and 0 columns\n",
      "Presolve time: 0.05s\n",
      "Presolved: 3657 rows, 3843 columns, 14693 nonzeros\n",
      "Variable types: 0 continuous, 3843 integer (3843 binary)\n",
      "\n",
      "Root relaxation: objective 1.229200e+04, 4565 iterations, 0.12 seconds\n",
      "\n",
      "    Nodes    |    Current Node    |     Objective Bounds      |     Work\n",
      " Expl Unexpl |  Obj  Depth IntInf | Incumbent    BestBd   Gap | It/Node Time\n",
      "\n",
      "*    0     0               0    12292.000000 12292.0000  0.00%     -    0s\n",
      "\n",
      "Explored 0 nodes (4565 simplex iterations) in 0.17 seconds\n",
      "Thread count was 4 (of 4 available processors)\n",
      "\n",
      "Solution count 2: 12292 36294 \n",
      "\n",
      "Optimal solution found (tolerance 1.00e-04)\n",
      "Best objective 1.229200000000e+04, best bound 1.229200000000e+04, gap 0.0000%\n"
     ]
    }
   ],
   "source": [
    "# Let's try a simple model to select the cheapest listings that are available for this period\n",
    "m = Model(with_optimizer(Gurobi.Optimizer,TimeLimit=60))\n",
    "\n",
    "# variables\n",
    "# y[j]=1 listing j is booked, and 0 otherwise\n",
    "@variable(m, y[1:L], Bin)\n",
    "# x[i,j]=1 if person i stays in listing j, and 0 otherwise\n",
    "@variable(m, x[1:N,1:L], Bin)\n",
    "\n",
    "# constraints\n",
    "# everyone has to be assigned exactly one listing\n",
    "@constraint(m, [i=1:N], sum(x[i,:]) == 1) \n",
    "# we can only put people in a listing if it is booked\n",
    "@constraint(m, [i=1:N,j=1:L], x[i,j] <= y[j]) \n",
    "# maximum occupancy per unit -- we multiply this by y to make the problem easier to solve\n",
    "@constraint(m, [j=1:L], sum(x[:,j]) <= listings[j,:accommodates]*y[j]) \n",
    "\n",
    "# objective\n",
    "@objective(m, Min, sum( y[j]*cost[j] for j=1:L ))\n",
    "\n",
    "optimize!(m)"
   ]
  },
  {
   "cell_type": "code",
   "execution_count": 43,
   "metadata": {},
   "outputs": [
    {
     "name": "stdout",
     "output_type": "stream",
     "text": [
      "Cost per person: 198.25806451612902\n",
      "Number of listings booked: 19.0\n",
      "Selected listings: [8, 14, 16, 22, 23, 30, 33, 34, 36, 38, 39, 49, 50, 52, 56, 57, 59, 60, 61]\n",
      "Guests per listing: [5, 4, 3, 3, 2, 4, 4, 4, 2, 4, 2, 4, 3, 6, 5, 4, 1, 1, 1]\n"
     ]
    }
   ],
   "source": [
    "# let's look at our solution:\n",
    "println(\"Cost per person: \", JuMP.objective_value(m)/N)\n",
    "println(\"Number of listings booked: \", sum(JuMP.value.(y)))\n",
    "println(\"Selected listings: \", findall(JuMP.value.(y).>0) )\n",
    "println(\"Guests per listing: \", listings[findall(JuMP.value.(y).>0),:accommodates] )"
   ]
  },
  {
   "cell_type": "markdown",
   "metadata": {},
   "source": [
    "Now, let's incorporate some of the other constraints from our preference data.\n",
    "\n",
    "We need new variables to decide whether each listing should be booked for males only, females only, or any gender. For convenience, let's index these variables with the column names in our preferences data.\n",
    "$$ z_{j, k} = \\begin{cases} 1 & \\text{ if listing $j$ is used as room type $k$} \\\\ 0 & \\text{ otherwise}.\\end{cases}$$\n",
    "Next, we need a constraint to ensure that each listing is only used for one of the three categories (i.e., a listing can't be male only and female only at the same time).\n",
    "$$ \\sum_{k \\in \\text{ room types} } z_{jk} \\leq 1 \\text{ for } j=1,\\dots,L$$\n",
    "\n",
    "We also need to ensure that each student is placed in a room type that matches their preferences:\n",
    "$$ x_{ij} \\leq \\sum_{k \\in \\text{ room types} } z_{jk}\\text{preferences}_{ik} \\quad \\text{ for } i=1,\\dots,N; \\ j=1,\\dots,L $$"
   ]
  },
  {
   "cell_type": "code",
   "execution_count": 44,
   "metadata": {},
   "outputs": [
    {
     "name": "stdout",
     "output_type": "stream",
     "text": [
      "Optimize a model with 7748 rows, 4026 columns and 25376 nonzeros\n",
      "Variable types: 0 continuous, 4026 integer (4026 binary)\n",
      "Coefficient statistics:\n",
      "  Matrix range     [1e+00, 7e+00]\n",
      "  Objective range  [2e+02, 3e+03]\n",
      "  Bounds range     [0e+00, 0e+00]\n",
      "  RHS range        [1e+00, 1e+00]\n",
      "\n",
      "MIP start did not produce a new incumbent solution\n",
      "\n",
      "Found heuristic solution: objective 38275.000000\n",
      "Presolve removed 579 rows and 4 columns\n",
      "Presolve time: 0.08s\n",
      "Presolved: 7169 rows, 4022 columns, 22498 nonzeros\n",
      "Variable types: 0 continuous, 4022 integer (4022 binary)\n",
      "\n",
      "Root relaxation: objective 1.229200e+04, 7571 iterations, 0.36 seconds\n",
      "\n",
      "    Nodes    |    Current Node    |     Objective Bounds      |     Work\n",
      " Expl Unexpl |  Obj  Depth IntInf | Incumbent    BestBd   Gap | It/Node Time\n",
      "\n",
      "H    0     0                    12292.000000    0.00000   100%     -    0s\n",
      "     0     0          -    0      12292.0000 12292.0000  0.00%     -    0s\n",
      "\n",
      "Explored 0 nodes (9942 simplex iterations) in 0.58 seconds\n",
      "Thread count was 4 (of 4 available processors)\n",
      "\n",
      "Solution count 2: 12292 38275 \n",
      "\n",
      "Optimal solution found (tolerance 1.00e-04)\n",
      "Best objective 1.229200000000e+04, best bound 1.229200000000e+04, gap 0.0000%\n"
     ]
    }
   ],
   "source": [
    "room_types = [:room_A ,:room_F ,:room_M ]\n",
    "@variable(m, z[1:L,room_types], Bin)\n",
    "\n",
    "# each listing can only be used for one of the three room types\n",
    "@constraint(m, [j=1:L], sum(z[j,:]) <= 1)\n",
    "\n",
    "# preferences: x[i,j] can only be 1 if listing j matches the student's preferred room type(s) \n",
    "# i.e., z[j,type] matches student i's gender preferences\n",
    "@constraint(m, [i=1:N,j=1:L], x[i,j] <= sum(preferences[i,k]*z[j,k]  for k in room_types))\n",
    "\n",
    "optimize!(m)\n"
   ]
  },
  {
   "cell_type": "code",
   "execution_count": 45,
   "metadata": {},
   "outputs": [
    {
     "name": "stdout",
     "output_type": "stream",
     "text": [
      "Cost per person: 198.25806451612902\n",
      "Number of listings booked: 19.0\n",
      "Selected listings: [8, 14, 16, 22, 23, 30, 33, 34, 36, 38, 39, 49, 50, 52, 56, 57, 59, 60, 61]\n",
      "Guests per listing: [5, 4, 3, 3, 2, 4, 4, 4, 2, 4, 2, 4, 3, 6, 5, 4, 1, 1, 1]\n"
     ]
    }
   ],
   "source": [
    "# let's look at our solution:\n",
    "println(\"Cost per person: \", JuMP.objective_value(m)/N)\n",
    "println(\"Number of listings booked: \", sum(JuMP.value.(y)))\n",
    "println(\"Selected listings: \", findall(JuMP.value.(y).>0) )\n",
    "println(\"Guests per listing: \", listings[findall(JuMP.value.(y).>0),:accommodates] )"
   ]
  },
  {
   "cell_type": "markdown",
   "metadata": {},
   "source": [
    "Now let's add a constraint for the amenities requested by each student in the preferences data (in these columns, 1 means that the student must be in a listing with this amenity, 0 means they don't mind).\n",
    "How can we express this as an optimization constraint? Ideally we would like something that looks like this:\n",
    "\n",
    "$$x_{ij}\\leq \\text{amenities_match}(i,j),$$\n",
    "\n",
    "where amenities_match(i,j) is a function that returns 1 if listing $j$ has all the amentities requested by student $i$, and zero if it does not. We could write this function using a for loop to check each amenity and if statements to return either 1 or 0."
   ]
  },
  {
   "cell_type": "code",
   "execution_count": 46,
   "metadata": {},
   "outputs": [
    {
     "data": {
      "text/plain": [
       "amenities_match (generic function with 1 method)"
      ]
     },
     "execution_count": 46,
     "metadata": {},
     "output_type": "execute_result"
    }
   ],
   "source": [
    "function amenities_match(i,j)\n",
    "    student_preferences = preferences[i,amenities]\n",
    "    listing_amenities = listings[j,amenities]\n",
    "    for a in amenities\n",
    "        if student_preferences[a]>listing_amenities[a]\n",
    "            # listing lacks the requested feature\n",
    "            return(0)\n",
    "        end\n",
    "    end\n",
    "    #all amenities matched student's preferences\n",
    "    return(1)\n",
    "end"
   ]
  },
  {
   "cell_type": "code",
   "execution_count": 89,
   "metadata": {
    "scrolled": false
   },
   "outputs": [
    {
     "name": "stdout",
     "output_type": "stream",
     "text": [
      "Academic license - for non-commercial use only\n",
      "Academic license - for non-commercial use only\n",
      "Optimize a model with 11530 rows, 4026 columns and 29158 nonzeros\n",
      "Variable types: 0 continuous, 4026 integer (4026 binary)\n",
      "Coefficient statistics:\n",
      "  Matrix range     [1e+00, 7e+00]\n",
      "  Objective range  [2e+02, 3e+03]\n",
      "  Bounds range     [0e+00, 0e+00]\n",
      "  RHS range        [1e+00, 1e+00]\n",
      "Found heuristic solution: objective 40696.000000\n",
      "Presolve removed 6617 rows and 806 columns\n",
      "Presolve time: 0.14s\n",
      "Presolved: 4913 rows, 3220 columns, 34952 nonzeros\n",
      "Variable types: 0 continuous, 3220 integer (3220 binary)\n",
      "\n",
      "Root relaxation: objective 1.963171e+04, 5071 iterations, 0.36 seconds\n",
      "\n",
      "    Nodes    |    Current Node    |     Objective Bounds      |     Work\n",
      " Expl Unexpl |  Obj  Depth IntInf | Incumbent    BestBd   Gap | It/Node Time\n",
      "\n",
      "     0     0 19631.7143    0   15 40696.0000 19631.7143  51.8%     -    0s\n",
      "H    0     0                    20596.000000 19631.7143  4.68%     -    0s\n",
      "H    0     0                    20415.000000 19631.7143  3.84%     -    0s\n",
      "H    0     0                    19730.000000 19631.7143  0.50%     -    0s\n",
      "     0     0 19631.7143    0   11 19730.0000 19631.7143  0.50%     -    0s\n",
      "     0     0 19631.7143    0   13 19730.0000 19631.7143  0.50%     -    0s\n",
      "     0     0 19675.6666    0   32 19730.0000 19675.6666  0.28%     -    0s\n",
      "     0     0 19680.0000    0   14 19730.0000 19680.0000  0.25%     -    1s\n",
      "H    0     0                    19680.000000 19680.0000  0.00%     -    1s\n",
      "\n",
      "Cutting planes:\n",
      "  Gomory: 4\n",
      "  Cover: 9\n",
      "  MIR: 1\n",
      "  GUB cover: 1\n",
      "  Zero half: 2\n",
      "\n",
      "Explored 1 nodes (11688 simplex iterations) in 1.03 seconds\n",
      "Thread count was 4 (of 4 available processors)\n",
      "\n",
      "Solution count 6: 19680 19730 19730 ... 40696\n",
      "\n",
      "Optimal solution found (tolerance 1.00e-04)\n",
      "Best objective 1.968000000000e+04, best bound 1.968000000000e+04, gap 0.0000%\n"
     ]
    }
   ],
   "source": [
    "m = Model(with_optimizer(Gurobi.Optimizer,TimeLimit=60))\n",
    "\n",
    "# variables\n",
    "# y[j]=1 listing j is booked, and 0 otherwise\n",
    "@variable(m, y[1:L], Bin)\n",
    "# x[i,j]=1 if person i stays in listing j, and 0 otherwise\n",
    "@variable(m, x[1:N,1:L], Bin)\n",
    "\n",
    "# constraints\n",
    "# everyone has to be assigned exactly one listing\n",
    "@constraint(m,[i=1:N],sum(x[i,:])==1) \n",
    "# we can only put people in a listing if it is booked\n",
    "@constraint(m,[i=1:N,j=1:L],x[i,j]<=y[j]) \n",
    "\n",
    "# maximum occupancy per unit\n",
    "@constraint(m,[j=1:L],sum(x[:,j].*(preferences[:,:extra_guest] + ones(62))) <=listings[j, :accommodates]*y[j])\n",
    "\n",
    "# objective\n",
    "@objective(m, Min, sum( y[j]*cost[j] for j=1:L ))# variables\n",
    "\n",
    "@variable(m, z[1:L,room_types], Bin)\n",
    "\n",
    "# each listing can only be used for one of the three room types\n",
    "@constraint(m, [j=1:L], sum(z[j,:]) <= 1)\n",
    "\n",
    "# preferences: x[i,j] can only be 1 if listing j matches the student's preferred room type(s) \n",
    "# i.e., z[j,type] matches student i's gender preferences\n",
    "@constraint(m, [i=1:N,j=1:L], x[i,j] <= sum(preferences[i,k]*z[j,k]  for k in room_types))\n",
    "\n",
    "# amenity preferences: x[i,j] can only be 1 if listing[j] matches student i's preferences\n",
    "@constraint(m,[i=1:N,j=1:L], x[i,j] <= amenities_match(i,j) )\n",
    "\n",
    "optimize!(m)"
   ]
  },
  {
   "cell_type": "code",
   "execution_count": 79,
   "metadata": {},
   "outputs": [
    {
     "name": "stdout",
     "output_type": "stream",
     "text": [
      "Cost per person: 226.20689655172413\n",
      "Number of listings: 28.0\n",
      "Selected listings: [8, 13, 14, 15, 16, 18, 22, 23, 24, 30, 31, 33, 34, 35, 36, 37, 38, 39, 41, 49, 50, 51, 52, 56, 57, 59, 60, 61]\n",
      "Guests per listing: [5, 4, 4, 2, 3, 2, 3, 2, 2, 4, 4, 4, 4, 4, 2, 2, 4, 2, 3, 4, 3, 2, 6, 5, 4, 1, 1, 1]\n"
     ]
    }
   ],
   "source": [
    "println(\"Cost per person: \",JuMP.objective_value(m)/(N + sum(preferences[:,:extra_guest])))\n",
    "println(\"Number of listings: \",sum(JuMP.value.(y)))\n",
    "println(\"Selected listings: \",findall(JuMP.value.(y).>0) )\n",
    "println(\"Guests per listing: \",listings[findall(JuMP.value.(y).>0),:accommodates] )"
   ]
  },
  {
   "cell_type": "code",
   "execution_count": 81,
   "metadata": {
    "scrolled": true
   },
   "outputs": [
    {
     "name": "stderr",
     "output_type": "stream",
     "text": [
      "┌ Warning: implicit vector broadcasting in setindex! is deprecated; use `df[:, col_inds] .= Ref(v)` broadcasting assignment to change the columns in place\n",
      "│   caller = top-level scope at In[81]:1\n",
      "└ @ Core In[81]:1\n",
      "┌ Warning: Implicit broadcasting to a new column in DataFrame assignment is deprecated.Use `df[!, col_ind] .= v`  when `df` has some columns\n",
      "│   caller = setindex!(::DataFrame, ::String, ::Colon, ::Symbol) at deprecated.jl:1584\n",
      "└ @ DataFrames /Users/pierre-henri.ramirez/.julia/packages/DataFrames/XuYBH/src/deprecated.jl:1584\n"
     ]
    },
    {
     "data": {
      "text/plain": [
       "61-element Array{String,1}:\n",
       " \"\"      \n",
       " \"\"      \n",
       " \"\"      \n",
       " \"\"      \n",
       " \"\"      \n",
       " \"\"      \n",
       " \"\"      \n",
       " \"room_A\"\n",
       " \"\"      \n",
       " \"\"      \n",
       " \"\"      \n",
       " \"\"      \n",
       " \"room_F\"\n",
       " ⋮       \n",
       " \"room_A\"\n",
       " \"room_F\"\n",
       " \"room_A\"\n",
       " \"\"      \n",
       " \"\"      \n",
       " \"\"      \n",
       " \"room_A\"\n",
       " \"room_F\"\n",
       " \"\"      \n",
       " \"room_A\"\n",
       " \"room_F\"\n",
       " \"room_A\""
      ]
     },
     "execution_count": 81,
     "metadata": {},
     "output_type": "execute_result"
    }
   ],
   "source": [
    "# find out what type of room each listing will be\n",
    "listings[:,:type] = \"\"\n",
    "Z = JuMP.value.(z)\n",
    "\n",
    "for j in findall(JuMP.value.(y).>0)\n",
    "    for t in room_types\n",
    "        if Z[j,t]==1\n",
    "         listings[j,:type] = string(t)\n",
    "        end\n",
    "    end\n",
    "end\n",
    "listings[!,:type]"
   ]
  },
  {
   "cell_type": "code",
   "execution_count": 29,
   "metadata": {
    "scrolled": true
   },
   "outputs": [
    {
     "data": {
      "text/plain": [
       "62-element Array{String,1}:\n",
       " \"room_M\"\n",
       " \"room_M\"\n",
       " \"room_A\"\n",
       " \"room_F\"\n",
       " \"room_A\"\n",
       " \"room_M\"\n",
       " \"room_A\"\n",
       " \"room_A\"\n",
       " \"room_F\"\n",
       " \"room_A\"\n",
       " \"room_A\"\n",
       " \"room_M\"\n",
       " \"room_A\"\n",
       " ⋮       \n",
       " \"room_A\"\n",
       " \"room_A\"\n",
       " \"room_A\"\n",
       " \"room_A\"\n",
       " \"room_A\"\n",
       " \"room_F\"\n",
       " \"room_A\"\n",
       " \"room_F\"\n",
       " \"room_A\"\n",
       " \"room_A\"\n",
       " \"room_A\"\n",
       " \"room_M\""
      ]
     },
     "execution_count": 29,
     "metadata": {},
     "output_type": "execute_result"
    }
   ],
   "source": [
    "X = JuMP.value.(x)\n",
    "\n",
    "assigned_listing = [ listings[findall(X[i,:].>0)[1],:id] for i=1:N]\n",
    "assigned_type = [ listings[findall(X[i,:].>0)[1],:type] for i=1:N]"
   ]
  },
  {
   "cell_type": "code",
   "execution_count": 30,
   "metadata": {},
   "outputs": [
    {
     "data": {
      "text/html": [
       "<table class=\"data-frame\"><thead><tr><th></th><th>Name</th><th>listing</th><th>type</th></tr><tr><th></th><th>String</th><th>Int64</th><th>String</th></tr></thead><tbody><p>5 rows × 3 columns</p><tr><th>1</th><td>John Nicholas</td><td>14994014</td><td>room_M</td></tr><tr><th>2</th><td>Michael Rudahl</td><td>14994014</td><td>room_M</td></tr><tr><th>3</th><td>All A-Sloan</td><td>23871901</td><td>room_A</td></tr><tr><th>4</th><td>JM</td><td>32831210</td><td>room_F</td></tr><tr><th>5</th><td>Joey Khoury El Aramouni</td><td>21547937</td><td>room_A</td></tr></tbody></table>"
      ],
      "text/latex": [
       "\\begin{tabular}{r|ccc}\n",
       "\t& Name & listing & type\\\\\n",
       "\t\\hline\n",
       "\t& String & Int64 & String\\\\\n",
       "\t\\hline\n",
       "\t1 & John Nicholas & 14994014 & room\\_M \\\\\n",
       "\t2 & Michael Rudahl & 14994014 & room\\_M \\\\\n",
       "\t3 & All A-Sloan & 23871901 & room\\_A \\\\\n",
       "\t4 & JM & 32831210 & room\\_F \\\\\n",
       "\t5 & Joey Khoury El Aramouni & 21547937 & room\\_A \\\\\n",
       "\\end{tabular}\n"
      ],
      "text/plain": [
       "5×3 DataFrame\n",
       "│ Row │ Name                    │ listing  │ type   │\n",
       "│     │ \u001b[90mString\u001b[39m                  │ \u001b[90mInt64\u001b[39m    │ \u001b[90mString\u001b[39m │\n",
       "├─────┼─────────────────────────┼──────────┼────────┤\n",
       "│ 1   │ John Nicholas           │ 14994014 │ room_M │\n",
       "│ 2   │ Michael Rudahl          │ 14994014 │ room_M │\n",
       "│ 3   │ All A-Sloan             │ 23871901 │ room_A │\n",
       "│ 4   │ JM                      │ 32831210 │ room_F │\n",
       "│ 5   │ Joey Khoury El Aramouni │ 21547937 │ room_A │"
      ]
     },
     "execution_count": 30,
     "metadata": {},
     "output_type": "execute_result"
    }
   ],
   "source": [
    "# make a new data frame with each individual's assignment\n",
    "assignments = DataFrame()\n",
    "assignments[!,:Name] = preferences[!,:Name]\n",
    "assignments[!,:listing] = assigned_listing\n",
    "assignments[!,:type] = assigned_type\n",
    "first(assignments,5)"
   ]
  },
  {
   "cell_type": "code",
   "execution_count": 31,
   "metadata": {},
   "outputs": [
    {
     "data": {
      "text/plain": [
       "\"airbnb_solution.csv\""
      ]
     },
     "execution_count": 31,
     "metadata": {},
     "output_type": "execute_result"
    }
   ],
   "source": [
    "# choose a name for the output file\n",
    "filename = \"airbnb_solution\"\n",
    "\n",
    "CSV.write(\"$filename.csv\",assignments)"
   ]
  },
  {
   "cell_type": "markdown",
   "metadata": {},
   "source": [
    "Great! We now have our initial solution, which will be significanlty cheaper than staying in an hotel. \n",
    "The next step is to validate our solution:\n",
    "* each individual student should find their listing and make sure it matches their preferences\n",
    "* each student should check their roommates and make sure that they are in the correct type of room\n",
    "* are there any problems/complaints about the assignments?\n"
   ]
  },
  {
   "cell_type": "markdown",
   "metadata": {},
   "source": [
    "It's generally cheaper for many people to share a listing, so our optimization model seems to be choosing listings that accommodate many people. Unfortunately, some hosts might be a little optimistic about the number of people that their space can hold!\n",
    "Let's do a quick comparison of the number of beds vs. number of guests in our selected listings."
   ]
  },
  {
   "cell_type": "code",
   "execution_count": 32,
   "metadata": {
    "scrolled": true
   },
   "outputs": [
    {
     "data": {
      "text/html": [
       "<table class=\"data-frame\"><thead><tr><th></th><th>id</th><th>beds</th><th>accommodates</th></tr><tr><th></th><th>Int64</th><th>Int64</th><th>Int64</th></tr></thead><tbody><p>19 rows × 3 columns</p><tr><th>1</th><td>8830015</td><td>2</td><td>5</td></tr><tr><th>2</th><td>14994014</td><td>2</td><td>4</td></tr><tr><th>3</th><td>15166858</td><td>2</td><td>3</td></tr><tr><th>4</th><td>17573922</td><td>2</td><td>3</td></tr><tr><th>5</th><td>19084632</td><td>1</td><td>2</td></tr><tr><th>6</th><td>21547937</td><td>1</td><td>4</td></tr><tr><th>7</th><td>23738222</td><td>1</td><td>4</td></tr><tr><th>8</th><td>23871901</td><td>3</td><td>4</td></tr><tr><th>9</th><td>27111557</td><td>1</td><td>2</td></tr><tr><th>10</th><td>27584770</td><td>3</td><td>4</td></tr><tr><th>11</th><td>27733061</td><td>1</td><td>2</td></tr><tr><th>12</th><td>32330728</td><td>2</td><td>4</td></tr><tr><th>13</th><td>32331200</td><td>2</td><td>3</td></tr><tr><th>14</th><td>32831210</td><td>4</td><td>6</td></tr><tr><th>15</th><td>33075564</td><td>2</td><td>5</td></tr><tr><th>16</th><td>33136211</td><td>2</td><td>4</td></tr><tr><th>17</th><td>33549296</td><td>1</td><td>1</td></tr><tr><th>18</th><td>34091288</td><td>1</td><td>1</td></tr><tr><th>19</th><td>34174789</td><td>1</td><td>1</td></tr></tbody></table>"
      ],
      "text/latex": [
       "\\begin{tabular}{r|ccc}\n",
       "\t& id & beds & accommodates\\\\\n",
       "\t\\hline\n",
       "\t& Int64 & Int64 & Int64\\\\\n",
       "\t\\hline\n",
       "\t1 & 8830015 & 2 & 5 \\\\\n",
       "\t2 & 14994014 & 2 & 4 \\\\\n",
       "\t3 & 15166858 & 2 & 3 \\\\\n",
       "\t4 & 17573922 & 2 & 3 \\\\\n",
       "\t5 & 19084632 & 1 & 2 \\\\\n",
       "\t6 & 21547937 & 1 & 4 \\\\\n",
       "\t7 & 23738222 & 1 & 4 \\\\\n",
       "\t8 & 23871901 & 3 & 4 \\\\\n",
       "\t9 & 27111557 & 1 & 2 \\\\\n",
       "\t10 & 27584770 & 3 & 4 \\\\\n",
       "\t11 & 27733061 & 1 & 2 \\\\\n",
       "\t12 & 32330728 & 2 & 4 \\\\\n",
       "\t13 & 32331200 & 2 & 3 \\\\\n",
       "\t14 & 32831210 & 4 & 6 \\\\\n",
       "\t15 & 33075564 & 2 & 5 \\\\\n",
       "\t16 & 33136211 & 2 & 4 \\\\\n",
       "\t17 & 33549296 & 1 & 1 \\\\\n",
       "\t18 & 34091288 & 1 & 1 \\\\\n",
       "\t19 & 34174789 & 1 & 1 \\\\\n",
       "\\end{tabular}\n"
      ],
      "text/plain": [
       "19×3 DataFrame\n",
       "│ Row │ id       │ beds  │ accommodates │\n",
       "│     │ \u001b[90mInt64\u001b[39m    │ \u001b[90mInt64\u001b[39m │ \u001b[90mInt64\u001b[39m        │\n",
       "├─────┼──────────┼───────┼──────────────┤\n",
       "│ 1   │ 8830015  │ 2     │ 5            │\n",
       "│ 2   │ 14994014 │ 2     │ 4            │\n",
       "│ 3   │ 15166858 │ 2     │ 3            │\n",
       "│ 4   │ 17573922 │ 2     │ 3            │\n",
       "│ 5   │ 19084632 │ 1     │ 2            │\n",
       "│ 6   │ 21547937 │ 1     │ 4            │\n",
       "│ 7   │ 23738222 │ 1     │ 4            │\n",
       "│ 8   │ 23871901 │ 3     │ 4            │\n",
       "│ 9   │ 27111557 │ 1     │ 2            │\n",
       "│ 10  │ 27584770 │ 3     │ 4            │\n",
       "│ 11  │ 27733061 │ 1     │ 2            │\n",
       "│ 12  │ 32330728 │ 2     │ 4            │\n",
       "│ 13  │ 32331200 │ 2     │ 3            │\n",
       "│ 14  │ 32831210 │ 4     │ 6            │\n",
       "│ 15  │ 33075564 │ 2     │ 5            │\n",
       "│ 16  │ 33136211 │ 2     │ 4            │\n",
       "│ 17  │ 33549296 │ 1     │ 1            │\n",
       "│ 18  │ 34091288 │ 1     │ 1            │\n",
       "│ 19  │ 34174789 │ 1     │ 1            │"
      ]
     },
     "execution_count": 32,
     "metadata": {},
     "output_type": "execute_result"
    }
   ],
   "source": [
    "selected_listings = findall(JuMP.value.(y).>0)\n",
    "listings[selected_listings,[:id,:beds,:accommodates]]"
   ]
  },
  {
   "cell_type": "markdown",
   "metadata": {},
   "source": [
    "It looks like most listings are assuming two people per bed. Some even have more than two people per bed --- maybe there is a spare mattress or couch?\n",
    "\n",
    "Let's see what happens if we restrict the number of people assigned to each listing to the number of beds in the listing:"
   ]
  },
  {
   "cell_type": "code",
   "execution_count": 92,
   "metadata": {
    "scrolled": true
   },
   "outputs": [
    {
     "name": "stdout",
     "output_type": "stream",
     "text": [
      "Academic license - for non-commercial use only\n",
      "Academic license - for non-commercial use only\n",
      "Optimize a model with 11591 rows, 4026 columns and 32940 nonzeros\n",
      "Variable types: 0 continuous, 4026 integer (4026 binary)\n",
      "Coefficient statistics:\n",
      "  Matrix range     [1e+00, 7e+00]\n",
      "  Objective range  [2e+02, 3e+03]\n",
      "  Bounds range     [0e+00, 0e+00]\n",
      "  RHS range        [1e+00, 4e+00]\n",
      "Found heuristic solution: objective 44378.000000\n",
      "Presolve removed 8960 rows and 881 columns\n",
      "Presolve time: 0.13s\n",
      "Presolved: 2631 rows, 3145 columns, 14039 nonzeros\n",
      "Variable types: 0 continuous, 3145 integer (3145 binary)\n",
      "\n",
      "Root relaxation: objective 2.248741e+04, 3282 iterations, 0.12 seconds\n",
      "\n",
      "    Nodes    |    Current Node    |     Objective Bounds      |     Work\n",
      " Expl Unexpl |  Obj  Depth IntInf | Incumbent    BestBd   Gap | It/Node Time\n",
      "\n",
      "     0     0 22487.4143    0   70 44378.0000 22487.4143  49.3%     -    0s\n",
      "H    0     0                    28246.000000 22487.4143  20.4%     -    0s\n",
      "H    0     0                    28089.000000 22487.4143  19.9%     -    0s\n",
      "H    0     0                    27858.000000 22487.4143  19.3%     -    0s\n",
      "     0     0 24167.7500    0  135 27858.0000 24167.7500  13.2%     -    0s\n",
      "H    0     0                    27781.000000 24167.7500  13.0%     -    0s\n",
      "     0     0 26335.5000    0   86 27781.0000 26335.5000  5.20%     -    0s\n",
      "H    0     0                    27644.000000 26335.5000  4.73%     -    0s\n",
      "     0     0 27626.0000    0   55 27644.0000 27626.0000  0.07%     -    0s\n",
      "     0     0 27626.0000    0   54 27644.0000 27626.0000  0.07%     -    0s\n",
      "     0     0 27626.0000    0    5 27644.0000 27626.0000  0.07%     -    0s\n",
      "     0     0 27626.0000    0   10 27644.0000 27626.0000  0.07%     -    0s\n",
      "\n",
      "Explored 1 nodes (8606 simplex iterations) in 0.72 seconds\n",
      "Thread count was 4 (of 4 available processors)\n",
      "\n",
      "Solution count 6: 27644 27781 27858 ... 44378\n",
      "\n",
      "Optimal solution found (tolerance 1.00e-04)\n",
      "Best objective 2.764400000000e+04, best bound 2.764400000000e+04, gap 0.0000%\n"
     ]
    }
   ],
   "source": [
    "# maximum occupancy per unit\n",
    "m = Model(with_optimizer(Gurobi.Optimizer,TimeLimit=60))\n",
    "\n",
    "# variables\n",
    "# y[j]=1 listing j is booked, and 0 otherwise\n",
    "@variable(m, y[1:L], Bin)\n",
    "# x[i,j]=1 if person i stays in listing j, and 0 otherwise\n",
    "@variable(m, x[1:N,1:L], Bin)\n",
    "\n",
    "# constraints\n",
    "# everyone has to be assigned exactly one listing\n",
    "@constraint(m,[i=1:N],sum(x[i,:])==1) \n",
    "# we can only put people in a listing if it is booked\n",
    "@constraint(m,[i=1:N,j=1:L],x[i,j]<=y[j]) \n",
    "\n",
    "# maximum occupancy per unit\n",
    "@constraint(m,[j=1:L],sum(x[:,j].*(preferences[:,:extra_guest] + ones(62))) <=listings[j, :accommodates]*y[j])\n",
    "\n",
    "# objective\n",
    "@objective(m, Min, sum( y[j]*cost[j] for j=1:L ))# variables\n",
    "\n",
    "@variable(m, z[1:L,room_types], Bin)\n",
    "\n",
    "# each listing can only be used for one of the three room types\n",
    "@constraint(m, [j=1:L], sum(z[j,:]) <= 1)\n",
    "\n",
    "# preferences: x[i,j] can only be 1 if listing j matches the student's preferred room type(s) \n",
    "# i.e., z[j,type] matches student i's gender preferences\n",
    "@constraint(m, [i=1:N,j=1:L], x[i,j] <= sum(preferences[i,k]*z[j,k]  for k in room_types))\n",
    "\n",
    "# amenity preferences: x[i,j] can only be 1 if listing[j] matches student i's preferences\n",
    "@constraint(m,[i=1:N,j=1:L], x[i,j] <= amenities_match(i,j) )\n",
    "\n",
    "\n",
    "@constraint(m, [j=1:L], listings[j,:beds]>=sum(x[:,j])) \n",
    "\n",
    "optimize!(m)"
   ]
  },
  {
   "cell_type": "code",
   "execution_count": 95,
   "metadata": {},
   "outputs": [
    {
     "name": "stdout",
     "output_type": "stream",
     "text": [
      "Cost per person: 317.7471264367816\n",
      "Number of listings: 31.0\n"
     ]
    }
   ],
   "source": [
    "println(\"Cost per person: \",JuMP.objective_value(m)/(N+25))\n",
    "println(\"Number of listings: \",sum(JuMP.value.(y)))"
   ]
  },
  {
   "cell_type": "markdown",
   "metadata": {},
   "source": [
    "This solution is significantly more expensive. What should we do?"
   ]
  },
  {
   "cell_type": "markdown",
   "metadata": {},
   "source": [
    "# Exercise\n",
    "\n",
    "Divide into groups to work on an improved version of the AirBnB assignment model. There is no \"right\" solution to this problem, so your goal is to come up with the best model that you can. After working on this, you will have an opportunity to present it to other students and get their feedback.\n",
    "Here are some ideas to get you started:\n",
    "* You can modify the R script to generate different input data for your model (e.g., you could add different neighbourhoods, change the start date of the trip, adjust the rating requirements). If you do this, keep a list of your criteria and the reason for these decisions.\n",
    "* You can ask your classmates for additional data about their preferences. Remember that collecting data is difficult and time-consuming, so you can't just assume that everyone will answer a 10-page questionnaire with detailed questions about their preferences. You need to justify why it's worthwhile to put effort into collecting more data. If you decide to do this, add the corresponding columns in the preferences.csv file and type in some made-up data so that you can run your model (unfortunately we don't have time for everyone to fill out more surveys).\n",
    "* Think about how you would present your solution to your classmates. Maybe you could send them a dashboard that shows the details of their assignment and roommates. Perhaps you could visualize all the selected bookings on a map so that everyone can see where their friends will be located.\n",
    "\n",
    "Outputs\n",
    "* Provide a brief summary of how and why you have modified the assignment model. Describe any assumptions you have made and any additional data that you are using.\n",
    "* Provide a notebook with a full version of your code. Use comments to explain any new constraints or variables that you have added.\n",
    "* Provide a csv file with your best solution and an example of how you would share your solution with other students (plots, dashboards etc.)"
   ]
  },
  {
   "cell_type": "code",
   "execution_count": null,
   "metadata": {},
   "outputs": [],
   "source": []
  }
 ],
 "metadata": {
  "kernelspec": {
   "display_name": "Julia 1.2.0",
   "language": "julia",
   "name": "julia-1.2"
  },
  "language_info": {
   "file_extension": ".jl",
   "mimetype": "application/julia",
   "name": "julia",
   "version": "1.2.0"
  }
 },
 "nbformat": 4,
 "nbformat_minor": 2
}
